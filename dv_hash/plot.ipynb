{
 "cells": [
  {
   "cell_type": "markdown",
   "metadata": {},
   "source": [
    "# Plotting Playground"
   ]
  },
  {
   "cell_type": "code",
   "execution_count": 1,
   "metadata": {},
   "outputs": [
    {
     "ename": "ModuleNotFoundError",
     "evalue": "No module named 'matplotlib'",
     "output_type": "error",
     "traceback": [
      "\u001b[0;31m---------------------------------------------------------------------------\u001b[0m",
      "\u001b[0;31mModuleNotFoundError\u001b[0m                       Traceback (most recent call last)",
      "\u001b[1;32m/Users/xuian/Desktop/Devinian_Hash/dv_hash/plot.ipynb Cell 2\u001b[0m in \u001b[0;36m1\n\u001b[0;32m----> <a href='vscode-notebook-cell:/Users/xuian/Desktop/Devinian_Hash/dv_hash/plot.ipynb#W2sZmlsZQ%3D%3D?line=0'>1</a>\u001b[0m \u001b[39mimport\u001b[39;00m \u001b[39mmatplotlib\u001b[39;00m\u001b[39m.\u001b[39;00m\u001b[39mpyplot\u001b[39;00m \u001b[39mas\u001b[39;00m \u001b[39mplt\u001b[39;00m \n\u001b[1;32m      <a href='vscode-notebook-cell:/Users/xuian/Desktop/Devinian_Hash/dv_hash/plot.ipynb#W2sZmlsZQ%3D%3D?line=1'>2</a>\u001b[0m \u001b[39mimport\u001b[39;00m \u001b[39mpandas\u001b[39;00m \u001b[39mas\u001b[39;00m \u001b[39mpd\u001b[39;00m \n",
      "\u001b[0;31mModuleNotFoundError\u001b[0m: No module named 'matplotlib'"
     ]
    }
   ],
   "source": [
    "import matplotlib.pyplot as plt \n",
    "import pandas as pd "
   ]
  },
  {
   "cell_type": "code",
   "execution_count": null,
   "metadata": {},
   "outputs": [],
   "source": [
    "\n",
    "# Initialize the lists for X and Y \n",
    "data = pd.read_csv('k_wise.csv') \n",
    "  \n",
    "df = pd.DataFrame(data) \n",
    "  \n",
    "X = list(df.iloc[:, 0]) \n",
    "Y = list(df.iloc[:, 1]) \n",
    "  \n",
    "# Plot the data using bar() method \n",
    "plt.bar(X, Y, color='g') \n",
    "plt.title(\"k_wise distribution\") \n",
    "plt.xlabel(\"slot\") \n",
    "plt.ylabel(\"items\") \n",
    "  \n",
    "# Show the plot \n",
    "plt.show() "
   ]
  },
  {
   "cell_type": "code",
   "execution_count": null,
   "metadata": {},
   "outputs": [],
   "source": [
    "data = pd.read_csv('pure_rand.csv') \n",
    "  \n",
    "df = pd.DataFrame(data) \n",
    "  \n",
    "X = list(df.iloc[:, 0]) \n",
    "Y = list(df.iloc[:, 1]) \n",
    "  \n",
    "# Plot the data using bar() method \n",
    "plt.bar(X, Y, color='g') \n",
    "plt.title(\"rand distribution\") \n",
    "plt.xlabel(\"slot\") \n",
    "plt.ylabel(\"items\") \n",
    "  \n",
    "# Show the plot \n",
    "plt.show() "
   ]
  }
 ],
 "metadata": {
  "kernelspec": {
   "display_name": "Python 3",
   "language": "python",
   "name": "python3"
  },
  "language_info": {
   "codemirror_mode": {
    "name": "ipython",
    "version": 3
   },
   "file_extension": ".py",
   "mimetype": "text/x-python",
   "name": "python",
   "nbconvert_exporter": "python",
   "pygments_lexer": "ipython3",
   "version": "3.10.1"
  },
  "orig_nbformat": 4
 },
 "nbformat": 4,
 "nbformat_minor": 2
}
